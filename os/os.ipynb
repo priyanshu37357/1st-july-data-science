{
 "cells": [
  {
   "cell_type": "markdown",
   "id": "a5e65c1c",
   "metadata": {},
   "source": [
    "#### os"
   ]
  },
  {
   "cell_type": "code",
   "execution_count": 1,
   "id": "8dbd7fe3",
   "metadata": {},
   "outputs": [],
   "source": [
    "import os "
   ]
  },
  {
   "cell_type": "code",
   "execution_count": null,
   "id": "773e3723",
   "metadata": {},
   "outputs": [
    {
     "name": "stdout",
     "output_type": "stream",
     "text": [
      "c:\\Users\\ACE\\Desktop\\data science\\os\n"
     ]
    }
   ],
   "source": [
    "file =os.getcwd()\n",
    "print(file)  # get current working directory"
   ]
  },
  {
   "cell_type": "code",
   "execution_count": 8,
   "id": "fd99f4fb",
   "metadata": {},
   "outputs": [
    {
     "name": "stdout",
     "output_type": "stream",
     "text": [
      "total file in this directory ['deep learning', 'gen AI', 'LSTM & GRU', 'Machine Learning', 'Matplotib', 'Numpy', 'os', 'pandas', 'projects', 'Python', 'Seaborn']\n"
     ]
    }
   ],
   "source": [
    "file = os.listdir(r\"C:\\Users\\ACE\\Desktop\\data science\")### list all the files in the directory \n",
    "print(\"total file in this directory\",file)"
   ]
  },
  {
   "cell_type": "code",
   "execution_count": 9,
   "id": "5c65c229",
   "metadata": {},
   "outputs": [
    {
     "name": "stdout",
     "output_type": "stream",
     "text": [
      "total file in this directory ['basic.py', 'conditional.ipynb', 'demo.txt', 'exception.ipynb', 'file_handling.ipynb', 'function.ipynb', 'looping.ipynb', 'oops.ipynb', 'text.txt', 'upflair.txt']\n"
     ]
    }
   ],
   "source": [
    "file = os.listdir(r\"C:\\Users\\ACE\\Desktop\\data science\\python\")### list all the files in the directory \n",
    "print(\"total file in this directory\",file)"
   ]
  },
  {
   "cell_type": "code",
   "execution_count": 11,
   "id": "e9b1e5c5",
   "metadata": {},
   "outputs": [
    {
     "data": {
      "text/plain": [
       "['basic.py',\n",
       " 'conditional.ipynb',\n",
       " 'demo.txt',\n",
       " 'exception.ipynb',\n",
       " 'file_handling.ipynb',\n",
       " 'function.ipynb',\n",
       " 'looping.ipynb',\n",
       " 'oops.ipynb',\n",
       " 'text.txt',\n",
       " 'upflair.txt']"
      ]
     },
     "execution_count": 11,
     "metadata": {},
     "output_type": "execute_result"
    }
   ],
   "source": [
    "path = r\"C:\\Users\\ACE\\Desktop\\data science\\python\"\n",
    "os.listdir(path)"
   ]
  },
  {
   "cell_type": "code",
   "execution_count": 33,
   "id": "ae11828c",
   "metadata": {},
   "outputs": [
    {
     "name": "stdout",
     "output_type": "stream",
     "text": [
      "folder created sucessfully\n"
     ]
    }
   ],
   "source": [
    "os.mkdir(\"test\")  ## it will create a folder mamed test\n",
    "print(\"folder created sucessfully\")"
   ]
  },
  {
   "cell_type": "code",
   "execution_count": 13,
   "id": "87c8e754",
   "metadata": {},
   "outputs": [
    {
     "data": {
      "text/plain": [
       "['os.ipynb', 'test']"
      ]
     },
     "execution_count": 13,
     "metadata": {},
     "output_type": "execute_result"
    }
   ],
   "source": [
    "os.listdir(os.getcwd())"
   ]
  },
  {
   "cell_type": "code",
   "execution_count": 34,
   "id": "6b4a66b1",
   "metadata": {},
   "outputs": [
    {
     "name": "stdout",
     "output_type": "stream",
     "text": [
      "folder renamed sucessfully\n"
     ]
    }
   ],
   "source": [
    "os.rename(\"test\",\"Data science\")\n",
    "print(\"folder renamed sucessfully\")"
   ]
  },
  {
   "cell_type": "code",
   "execution_count": 16,
   "id": "e3301ab1",
   "metadata": {},
   "outputs": [
    {
     "data": {
      "text/plain": [
       "['Data science', 'os.ipynb']"
      ]
     },
     "execution_count": 16,
     "metadata": {},
     "output_type": "execute_result"
    }
   ],
   "source": [
    "os.listdir(os.getcwd())"
   ]
  },
  {
   "cell_type": "code",
   "execution_count": 35,
   "id": "33a9cd5d",
   "metadata": {},
   "outputs": [
    {
     "name": "stdout",
     "output_type": "stream",
     "text": [
      "folder deleted sucessfully\n"
     ]
    }
   ],
   "source": [
    "os.rmdir(\"Data science\")\n",
    "print(\"folder deleted sucessfully\")"
   ]
  },
  {
   "cell_type": "code",
   "execution_count": 18,
   "id": "07d5d915",
   "metadata": {},
   "outputs": [
    {
     "data": {
      "text/plain": [
       "['os.ipynb']"
      ]
     },
     "execution_count": 18,
     "metadata": {},
     "output_type": "execute_result"
    }
   ],
   "source": [
    "os.listdir(os.getcwd())"
   ]
  },
  {
   "cell_type": "code",
   "execution_count": 23,
   "id": "8b1cc814",
   "metadata": {},
   "outputs": [
    {
     "data": {
      "text/plain": [
       "'c:\\\\Users\\\\ACE\\\\Desktop\\\\data science\\\\os'"
      ]
     },
     "execution_count": 23,
     "metadata": {},
     "output_type": "execute_result"
    }
   ],
   "source": [
    "os.getcwd()"
   ]
  },
  {
   "cell_type": "code",
   "execution_count": 24,
   "id": "38908303",
   "metadata": {},
   "outputs": [
    {
     "name": "stdout",
     "output_type": "stream",
     "text": [
      "path exist :- None\n"
     ]
    }
   ],
   "source": [
    "path = r'c:\\\\Users\\\\ACE\\\\Desktop\\\\data science\\\\os'\n",
    "path =os.environ.get(path)\n",
    "print(\"path exist :-\",path)"
   ]
  },
  {
   "cell_type": "code",
   "execution_count": 26,
   "id": "dc513909",
   "metadata": {},
   "outputs": [],
   "source": [
    "# os.system command(path) ### system command"
   ]
  },
  {
   "cell_type": "code",
   "execution_count": 27,
   "id": "68457f7d",
   "metadata": {},
   "outputs": [
    {
     "data": {
      "text/plain": [
       "True"
      ]
     },
     "execution_count": 27,
     "metadata": {},
     "output_type": "execute_result"
    }
   ],
   "source": [
    "path = r\"C:\\Users\\ACE\\Desktop\\data science\\Python\\looping.ipynb\"\n",
    "os.path.isfile(path)"
   ]
  },
  {
   "cell_type": "code",
   "execution_count": null,
   "id": "4e5142e1",
   "metadata": {},
   "outputs": [
    {
     "data": {
      "text/plain": [
       "False"
      ]
     },
     "execution_count": 28,
     "metadata": {},
     "output_type": "execute_result"
    }
   ],
   "source": [
    "path = r\"C:\\Users\\ACE\\Desktop\\data science\\Python\\looping.ipynb\"\n",
    "os.path.isdir(path)"
   ]
  },
  {
   "cell_type": "code",
   "execution_count": 32,
   "id": "52b21556",
   "metadata": {},
   "outputs": [
    {
     "name": "stdout",
     "output_type": "stream",
     "text": [
      "C:\\Users\\ACE\\Desktop\\data science\\Python\n"
     ]
    },
    {
     "data": {
      "text/plain": [
       "['basic.py',\n",
       " 'conditional.ipynb',\n",
       " 'demo.txt',\n",
       " 'exception.ipynb',\n",
       " 'file_handling.ipynb',\n",
       " 'function.ipynb',\n",
       " 'looping.ipynb',\n",
       " 'oops.ipynb',\n",
       " 'text.txt',\n",
       " 'upflair.txt']"
      ]
     },
     "execution_count": 32,
     "metadata": {},
     "output_type": "execute_result"
    }
   ],
   "source": [
    "path1 = r\"C:\\Users\\ACE\\Desktop\"\n",
    "path2 = r\"data science\\Python\"\n",
    "complete_path = os.path.join(path1,path2)\n",
    "print(complete_path)\n",
    "os.listdir(complete_path)"
   ]
  },
  {
   "cell_type": "code",
   "execution_count": 36,
   "id": "0e7862b8",
   "metadata": {},
   "outputs": [
    {
     "name": "stdout",
     "output_type": "stream",
     "text": [
      "size of the file (in bytes):- 5024\n"
     ]
    }
   ],
   "source": [
    "path = r\"C:\\Users\\ACE\\Desktop\\data science\\Python\\looping.ipynb\"\n",
    "size =os.path.getsize(path)\n",
    "print(\"size of the file (in bytes):-\",size)"
   ]
  },
  {
   "cell_type": "code",
   "execution_count": 37,
   "id": "fa99845c",
   "metadata": {},
   "outputs": [
    {
     "name": "stdout",
     "output_type": "stream",
     "text": [
      "before dir c:\\Users\\ACE\\Desktop\\data science\\os\n",
      "after dir C:\\Users\\ACE\\Desktop\\data science\\Python\n"
     ]
    }
   ],
   "source": [
    "print(\"before dir\",os.getcwd())\n",
    "os.chdir(r\"C:\\Users\\ACE\\Desktop\\data science\\Python\")\n",
    "print(\"after dir\",os.getcwd())"
   ]
  },
  {
   "cell_type": "code",
   "execution_count": null,
   "id": "23c65cfd",
   "metadata": {},
   "outputs": [],
   "source": []
  }
 ],
 "metadata": {
  "kernelspec": {
   "display_name": "Python 3",
   "language": "python",
   "name": "python3"
  },
  "language_info": {
   "codemirror_mode": {
    "name": "ipython",
    "version": 3
   },
   "file_extension": ".py",
   "mimetype": "text/x-python",
   "name": "python",
   "nbconvert_exporter": "python",
   "pygments_lexer": "ipython3",
   "version": "3.11.5"
  }
 },
 "nbformat": 4,
 "nbformat_minor": 5
}
