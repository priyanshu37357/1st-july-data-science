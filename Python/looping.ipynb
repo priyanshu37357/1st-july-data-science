{
 "cells": [
  {
   "cell_type": "markdown",
   "id": "321c9429",
   "metadata": {},
   "source": [
    "## looping  in python \n",
    "* in python a loop are control structure that allow you to excute a block of code repeatedly . there are two mainn type of loop  "
   ]
  },
  {
   "cell_type": "code",
   "execution_count": 6,
   "id": "01362af7",
   "metadata": {},
   "outputs": [
    {
     "name": "stdout",
     "output_type": "stream",
     "text": [
      "b\n",
      "h\n",
      "u\n",
      "p\n",
      "e\n",
      "s\n",
      "h\n"
     ]
    }
   ],
   "source": [
    "# for \n",
    "# while \n",
    "# \"bhupesh\"\n",
    "for x in \"bhupesh\":\n",
    "  print(x)"
   ]
  },
  {
   "cell_type": "code",
   "execution_count": 7,
   "id": "8af9aa39",
   "metadata": {},
   "outputs": [
    {
     "name": "stdout",
     "output_type": "stream",
     "text": [
      "1\n",
      "2\n",
      "3\n",
      "4\n",
      "5\n"
     ]
    }
   ],
   "source": [
    "lst = [1,2,3,4,5]\n",
    "for x in lst:\n",
    "     print(x)"
   ]
  },
  {
   "cell_type": "code",
   "execution_count": 8,
   "id": "a3c5e1b1",
   "metadata": {},
   "outputs": [
    {
     "name": "stdout",
     "output_type": "stream",
     "text": [
      "1\n",
      "2\n",
      "3\n",
      "4\n",
      "5\n",
      "6\n",
      "7\n",
      "8\n",
      "9\n"
     ]
    }
   ],
   "source": [
    "# range ()\n",
    "for x in range (1,10):\n",
    "    print(x)"
   ]
  },
  {
   "cell_type": "code",
   "execution_count": 9,
   "id": "1a8939db",
   "metadata": {},
   "outputs": [
    {
     "name": "stdout",
     "output_type": "stream",
     "text": [
      "2\n",
      "4\n",
      "6\n",
      "8\n",
      "10\n",
      "12\n",
      "14\n",
      "16\n",
      "18\n",
      "20\n"
     ]
    }
   ],
   "source": [
    "for x in range (2,22,2):\n",
    "    print(x) #### starting point and second ending and 2 gap"
   ]
  },
  {
   "cell_type": "code",
   "execution_count": 10,
   "id": "3043290c",
   "metadata": {},
   "outputs": [
    {
     "ename": "SyntaxError",
     "evalue": "incomplete input (3711512005.py, line 4)",
     "output_type": "error",
     "traceback": [
      "  \u001b[36mCell\u001b[39m\u001b[36m \u001b[39m\u001b[32mIn[10]\u001b[39m\u001b[32m, line 4\u001b[39m\n\u001b[31m    \u001b[39m\u001b[31m\"address\":\"jaipur\"\u001b[39m\n                      ^\n\u001b[31mSyntaxError\u001b[39m\u001b[31m:\u001b[39m incomplete input\n"
     ]
    }
   ],
   "source": [
    "my_dict ={\"name\":\"govind\",\n",
    "\"class\":\"1 st class\", \n",
    "\"roll no.\": \"2ru123\",\n",
    "\"address\":\"jaipur\""
   ]
  },
  {
   "cell_type": "code",
   "execution_count": null,
   "id": "3c629ef6",
   "metadata": {},
   "outputs": [
    {
     "ename": "NameError",
     "evalue": "name 'my_dict' is not defined",
     "output_type": "error",
     "traceback": [
      "\u001b[31m---------------------------------------------------------------------------\u001b[39m",
      "\u001b[31mNameError\u001b[39m                                 Traceback (most recent call last)",
      "\u001b[36mCell\u001b[39m\u001b[36m \u001b[39m\u001b[32mIn[7]\u001b[39m\u001b[32m, line 1\u001b[39m\n\u001b[32m----> \u001b[39m\u001b[32m1\u001b[39m \u001b[38;5;28;01mfor\u001b[39;00m item \u001b[38;5;129;01min\u001b[39;00m \u001b[43mmy_dict\u001b[49m.items():\n\u001b[32m      2\u001b[39m     \u001b[38;5;28mprint\u001b[39m(item)\n",
      "\u001b[31mNameError\u001b[39m: name 'my_dict' is not defined"
     ]
    }
   ],
   "source": [
    "for item in my_dict.keys():\n",
    "    print(item)"
   ]
  },
  {
   "cell_type": "code",
   "execution_count": null,
   "id": "073eb698",
   "metadata": {},
   "outputs": [],
   "source": [
    "for item in my_dict.values():\n",
    "    print(item)"
   ]
  },
  {
   "cell_type": "markdown",
   "id": "c475e9d2",
   "metadata": {},
   "source": [
    "### while loop"
   ]
  },
  {
   "cell_type": "code",
   "execution_count": null,
   "id": "60caf7f4",
   "metadata": {},
   "outputs": [],
   "source": [
    "# = and == and is \n",
    "#  or and not \n",
    "# in and not in \n",
    "# pdke ana chiye"
   ]
  },
  {
   "cell_type": "code",
   "execution_count": null,
   "id": "e82011b4",
   "metadata": {},
   "outputs": [],
   "source": [
    "# a= 20\n",
    "# while a>10:\n",
    "#     print(a)\n",
    "#     a=a+1\n",
    "\n",
    "# while True:\n",
    "#     print(\"hello\")"
   ]
  },
  {
   "cell_type": "code",
   "execution_count": null,
   "id": "8a8e579f",
   "metadata": {},
   "outputs": [],
   "source": []
  }
 ],
 "metadata": {
  "kernelspec": {
   "display_name": "Python 3",
   "language": "python",
   "name": "python3"
  },
  "language_info": {
   "codemirror_mode": {
    "name": "ipython",
    "version": 3
   },
   "file_extension": ".py",
   "mimetype": "text/x-python",
   "name": "python",
   "nbconvert_exporter": "python",
   "pygments_lexer": "ipython3",
   "version": "3.11.5"
  }
 },
 "nbformat": 4,
 "nbformat_minor": 5
}
