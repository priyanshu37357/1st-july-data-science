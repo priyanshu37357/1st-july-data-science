{
 "cells": [
  {
   "cell_type": "code",
   "execution_count": null,
   "id": "1620ca7a",
   "metadata": {},
   "outputs": [],
   "source": [
    "# read  r\n",
    "# write  w\n",
    "# append  a \n",
    "# create  x\n"
   ]
  },
  {
   "cell_type": "markdown",
   "id": "a78ccf6f",
   "metadata": {},
   "source": [
    "### *File handling* \n",
    "\n",
    "| Mode   | Description                                                  |\n",
    "| ------ | ------------------------------------------------------------ |\n",
    "| \"r\"  | Read mode (default), error if file doesn't exist             |\n",
    "| \"w\"  | Write mode, creates a file if not exist, overwrites existing |\n",
    "| \"a\"  | Append mode, adds content to end of file                     |\n",
    "| \"x\"  | Create mode, error if file already exists                    |\n",
    "                                         |"
   ]
  },
  {
   "cell_type": "code",
   "execution_count": 4,
   "id": "5acb2126",
   "metadata": {},
   "outputs": [],
   "source": [
    "file =open('demo.txt','r')   ### r for read and demo.txt is name of file\n",
    "file.read()   ### it will read the file\n",
    "file.close()  ### it will close the file"
   ]
  },
  {
   "cell_type": "code",
   "execution_count": 3,
   "id": "f00e225d",
   "metadata": {},
   "outputs": [],
   "source": [
    "file =open('demo.txt','r')   ### r for read and demo.txt is name of file\n",
    "file.readlines()   ### it will read the  first ine of the file\n",
    "file.close()  ### it will close the file"
   ]
  },
  {
   "cell_type": "code",
   "execution_count": 2,
   "id": "a9750a9d",
   "metadata": {},
   "outputs": [],
   "source": [
    "file =open('demo.txt','r')  ### it will append the file\n",
    "#file.readlines() #### it will read the all lines of the file\n",
    "file.close()"
   ]
  },
  {
   "cell_type": "code",
   "execution_count": 1,
   "id": "c2b938d1",
   "metadata": {},
   "outputs": [],
   "source": [
    "file =open('demo.txt','w') #### w for write mode and demo.txt is name of file\n",
    "#file.read() ### it will read the file \n",
    "file.write(\"Hello world\") #### it will write the file\n",
    "file.close()"
   ]
  },
  {
   "cell_type": "code",
   "execution_count": null,
   "id": "581c6baa",
   "metadata": {},
   "outputs": [],
   "source": [
    "file =open('demo.txt','r')\n",
    "file.read()\n",
    "file.close()"
   ]
  },
  {
   "cell_type": "code",
   "execution_count": 6,
   "id": "15d2e0f8",
   "metadata": {},
   "outputs": [],
   "source": [
    "### append mode\n",
    "file =open('demo.txt','a') \n",
    "file.write(\"hello bhai kaise ho\")\n",
    "file.close()\n",
    "\n"
   ]
  },
  {
   "cell_type": "code",
   "execution_count": 7,
   "id": "47f423b7",
   "metadata": {},
   "outputs": [],
   "source": [
    "file =open('demo.txt','r') \n",
    "file.close()\n"
   ]
  },
  {
   "cell_type": "code",
   "execution_count": 12,
   "id": "0b7d4d7f",
   "metadata": {},
   "outputs": [],
   "source": [
    "file =open(\"text.txt\",'a') \n",
    "file.write(\"apeend mode ka kaam hota ha ki agar esko file milti ha toh usi file ke ander append keer dega agr isko file nhi milti toh create ker dega \")\n",
    "file.close()"
   ]
  },
  {
   "cell_type": "code",
   "execution_count": 13,
   "id": "2a2722e4",
   "metadata": {},
   "outputs": [
    {
     "data": {
      "text/plain": [
       "'apeend mode ka kaam hota ha ki agar esko file milti ha toh usi file ke ander append keer dega agr isko file nhi milti toh create ker dega apeend mode ka kaam hota ha ki agar esko file milti ha toh usi file ke ander append keer dega agr isko file nhi milti toh create ker dega '"
      ]
     },
     "execution_count": 13,
     "metadata": {},
     "output_type": "execute_result"
    }
   ],
   "source": [
    "open(\"text.txt\",'r').read()"
   ]
  },
  {
   "cell_type": "code",
   "execution_count": null,
   "id": "7044f98c",
   "metadata": {},
   "outputs": [],
   "source": [
    "### create mode\n",
    "\n",
    "file = open(\"upflair.txt\",'x')\n",
    "file.write(\" hello ksa lga upflairs aake\")\n",
    "file.close()\n",
    "\n",
    "#file.read()"
   ]
  },
  {
   "cell_type": "code",
   "execution_count": null,
   "id": "0d4f7635",
   "metadata": {},
   "outputs": [],
   "source": []
  }
 ],
 "metadata": {
  "kernelspec": {
   "display_name": "Python 3",
   "language": "python",
   "name": "python3"
  },
  "language_info": {
   "codemirror_mode": {
    "name": "ipython",
    "version": 3
   },
   "file_extension": ".py",
   "mimetype": "text/x-python",
   "name": "python",
   "nbconvert_exporter": "python",
   "pygments_lexer": "ipython3",
   "version": "3.11.5"
  }
 },
 "nbformat": 4,
 "nbformat_minor": 5
}
