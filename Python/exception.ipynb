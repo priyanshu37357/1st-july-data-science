{
 "cells": [
  {
   "cell_type": "code",
   "execution_count": 1,
   "id": "84959f60",
   "metadata": {},
   "outputs": [],
   "source": [
    "try:\n",
    "    pass  ### main code\n",
    "except:\n",
    "    pass  ### error handling\n",
    "else:\n",
    "    pass ### multiple error\n",
    "finally:\n",
    "    pass  ### koi chale na chale me to chalunga"
   ]
  },
  {
   "cell_type": "code",
   "execution_count": 4,
   "id": "9e2a2cb9",
   "metadata": {},
   "outputs": [
    {
     "name": "stdout",
     "output_type": "stream",
     "text": [
      "invalid input invalid literal for int() with base 10: 'qww'\n"
     ]
    }
   ],
   "source": [
    "try:\n",
    "    a = int(input(\"enter a number\"))\n",
    "    b = int(input(\"enter a second number\"))\n",
    "    print(a*b)\n",
    "except ValueError as e:\n",
    "    print(\"invalid input\",e)\n",
    "\n",
    "    # python erroer handling"
   ]
  },
  {
   "cell_type": "code",
   "execution_count": 3,
   "id": "4d573431",
   "metadata": {},
   "outputs": [
    {
     "name": "stdout",
     "output_type": "stream",
     "text": [
      "division by zero\n"
     ]
    }
   ],
   "source": [
    "try:\n",
    "    a = int(input(\"enter a number\"))\n",
    "    b = int(input(\"enter a second number\"))\n",
    "    print(a/b)\n",
    "except ZeroDivisionError as e:\n",
    "    print(e)\n",
    "\n",
    "    # python erroer handling"
   ]
  },
  {
   "cell_type": "code",
   "execution_count": null,
   "id": "2a4142a8",
   "metadata": {},
   "outputs": [
    {
     "name": "stdout",
     "output_type": "stream",
     "text": [
      "invalid literal for int() with base 10: 'qsd'\n"
     ]
    }
   ],
   "source": [
    "try:\n",
    "    a = int(input(\"enter a number\"))\n",
    "    b = int(input(\"enter a second number\"))\n",
    "    print(a/b)\n",
    "except Exception as e:\n",
    "    print(e)\n",
    "\n",
    "    # exception  keyword  handling all errors"
   ]
  },
  {
   "cell_type": "code",
   "execution_count": 6,
   "id": "3b0147c3",
   "metadata": {},
   "outputs": [
    {
     "name": "stdout",
     "output_type": "stream",
     "text": [
      "division by zero\n",
      " koi chle na chle ma toh chalunga\n"
     ]
    }
   ],
   "source": [
    "try:\n",
    "    a =int(input(\"enter a number\"))\n",
    "    b = int(input(\"enter a second number\"))\n",
    "    print(a/b)\n",
    "except Exception as e:\n",
    "    print(e)\n",
    "else:\n",
    "    print(\"no error\")\n",
    "    print(a*b)\n",
    "    \n",
    "finally:\n",
    "    print(\" koi chle na chle ma toh chalunga\")"
   ]
  },
  {
   "cell_type": "code",
   "execution_count": 7,
   "id": "3e191eb0",
   "metadata": {},
   "outputs": [
    {
     "name": "stdout",
     "output_type": "stream",
     "text": [
      "division by zero\n",
      "Thanks for using our services\n"
     ]
    }
   ],
   "source": [
    "try:\n",
    "    num1 =int(input(\"enter a number\"))\n",
    "    num2 = int(input(\"enter a second number\"))\n",
    "    result =num1/num2\n",
    "except ZeroDivisionError as e:\n",
    "    print(e)\n",
    "except ValueError as e:\n",
    "    print(e)\n",
    "except Exception as e:\n",
    "    print(e)\n",
    "else:\n",
    "    print(\"final_result:-\",result)\n",
    "finally:\n",
    "    print(\"Thanks for using our services\")\n",
    "\n"
   ]
  },
  {
   "cell_type": "code",
   "execution_count": null,
   "id": "8a27c836",
   "metadata": {},
   "outputs": [],
   "source": []
  }
 ],
 "metadata": {
  "kernelspec": {
   "display_name": "Python 3",
   "language": "python",
   "name": "python3"
  },
  "language_info": {
   "codemirror_mode": {
    "name": "ipython",
    "version": 3
   },
   "file_extension": ".py",
   "mimetype": "text/x-python",
   "name": "python",
   "nbconvert_exporter": "python",
   "pygments_lexer": "ipython3",
   "version": "3.11.5"
  }
 },
 "nbformat": 4,
 "nbformat_minor": 5
}
