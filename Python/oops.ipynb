{
 "cells": [
  {
   "cell_type": "markdown",
   "id": "1d03ed6a",
   "metadata": {},
   "source": [
    "### oops concept in python "
   ]
  },
  {
   "cell_type": "code",
   "execution_count": 2,
   "id": "66467b90",
   "metadata": {},
   "outputs": [],
   "source": [
    "# global variable\n",
    "# local variable\n",
    "# polymorphism\n",
    "# inhertance\n",
    "# encapsulation\n",
    "# abstraction"
   ]
  },
  {
   "cell_type": "code",
   "execution_count": null,
   "id": "eb25aa98",
   "metadata": {},
   "outputs": [],
   "source": [
    "class class_name:\n",
    "    pass \n",
    "#class _name>>>class name \n",
    "#pass >>placeholder\n",
    "#class is a keyboard"
   ]
  },
  {
   "cell_type": "code",
   "execution_count": 4,
   "id": "ed988ae2",
   "metadata": {},
   "outputs": [
    {
     "name": "stdout",
     "output_type": "stream",
     "text": [
      "my name is ritik and my age is 20\n"
     ]
    }
   ],
   "source": [
    "class Student:\n",
    "    name =\"ritik\"#class variable \n",
    "    age = 20  #class variable \n",
    "    print (f\"my name is {name} and my age is {20}\")\n",
    "obj_st=Student()#obj_st is object"
   ]
  },
  {
   "cell_type": "code",
   "execution_count": 5,
   "id": "8be321c0",
   "metadata": {},
   "outputs": [
    {
     "data": {
      "text/plain": [
       "'ritik'"
      ]
     },
     "execution_count": 5,
     "metadata": {},
     "output_type": "execute_result"
    }
   ],
   "source": [
    "obj_st.name "
   ]
  },
  {
   "cell_type": "code",
   "execution_count": 6,
   "id": "c219bd89",
   "metadata": {},
   "outputs": [
    {
     "data": {
      "text/plain": [
       "20"
      ]
     },
     "execution_count": 6,
     "metadata": {},
     "output_type": "execute_result"
    }
   ],
   "source": [
    "obj_st.age"
   ]
  },
  {
   "cell_type": "code",
   "execution_count": 11,
   "id": "f0b1e05d",
   "metadata": {},
   "outputs": [],
   "source": [
    "class Student:\n",
    "    name = \"ritik\" \n",
    "    age = 20 #class variable \n",
    "\n",
    "    def info(self):\n",
    "        print(\"this is my method\")\n",
    "        print (\"how are you all\")\n",
    "\n",
    "dt_obj= Student()"
   ]
  },
  {
   "cell_type": "code",
   "execution_count": 12,
   "id": "714a9f21",
   "metadata": {},
   "outputs": [
    {
     "name": "stdout",
     "output_type": "stream",
     "text": [
      "this is my method\n",
      "how are you all\n"
     ]
    }
   ],
   "source": [
    "dt_obj.info()\n"
   ]
  },
  {
   "cell_type": "code",
   "execution_count": 14,
   "id": "fc5e091b",
   "metadata": {},
   "outputs": [],
   "source": [
    "class Student:\n",
    "    name = \"ritik\" \n",
    "    age = 20 #class variable \n",
    "\n",
    "    def info(self):\n",
    "        print(f\" my is {self.name}and my age is {self.age}\")\n",
    "        # print (\"how are you all\")\n",
    "\n",
    "\n",
    "        dt_obj =Student()"
   ]
  },
  {
   "cell_type": "code",
   "execution_count": 15,
   "id": "fc82dee0",
   "metadata": {},
   "outputs": [
    {
     "name": "stdout",
     "output_type": "stream",
     "text": [
      "this is my method\n",
      "how are you all\n"
     ]
    }
   ],
   "source": [
    "dt_obj.info()"
   ]
  },
  {
   "cell_type": "markdown",
   "id": "19d7dbe8",
   "metadata": {},
   "source": [
    "### inheritance"
   ]
  },
  {
   "cell_type": "markdown",
   "id": "31ea5dfe",
   "metadata": {},
   "source": [
    "### type of inheritance \n",
    "* single inheritance\n",
    " * multiple inheritance\n",
    "* multilevel inheritance\n",
    " * hierarchical inheritance\n",
    "* hybrid inheritance"
   ]
  },
  {
   "cell_type": "code",
   "execution_count": null,
   "id": "0f215791",
   "metadata": {},
   "outputs": [],
   "source": [
    "# class collage :\n",
    "#     pass\n",
    "\n",
    "# class Student:\n",
    "#     pass"
   ]
  },
  {
   "cell_type": "code",
   "execution_count": 28,
   "id": "c480b718",
   "metadata": {},
   "outputs": [],
   "source": [
    "###single inheritance\n",
    "class Collage:\n",
    "     pass\n",
    "class Student(Collage):\n",
    "  pass"
   ]
  },
  {
   "cell_type": "code",
   "execution_count": 18,
   "id": "43624470",
   "metadata": {},
   "outputs": [
    {
     "name": "stdout",
     "output_type": "stream",
     "text": [
      "Raffles university\n",
      "Neemrana\n",
      "Bhupesh\n",
      "1234\n"
     ]
    }
   ],
   "source": [
    "### single inheritence\n",
    "class college:\n",
    "    college_name = \"Raffles university\"\n",
    "    college_address = \"Neemrana\"\n",
    "\n",
    "class student(college):\n",
    "    student_name = \"Bhupesh\"\n",
    "    student_id = \"1234\"\n",
    "st_obj = student()\n",
    "print(st_obj.college_name)\n",
    "print(st_obj.college_address)\n",
    "print(st_obj.student_name)\n",
    "print(st_obj.student_id)"
   ]
  },
  {
   "cell_type": "code",
   "execution_count": 19,
   "id": "812c80d0",
   "metadata": {},
   "outputs": [
    {
     "name": "stdout",
     "output_type": "stream",
     "text": [
      "Ritik\n",
      "1234\n",
      "Rohit kumar\n"
     ]
    }
   ],
   "source": [
    "class Father:\n",
    "    father_name = \"Ritik\"\n",
    "    father_id = \"1234\"\n",
    "class Uncle:\n",
    "    uncle_name = \"Rohit kumar\"\n",
    "class child(Father,Uncle):\n",
    "    pass\n",
    "\n",
    "obj_child = child()\n",
    "print(obj_child.father_name)\n",
    "print(obj_child.father_id)\n",
    "print(obj_child.uncle_name)"
   ]
  },
  {
   "cell_type": "code",
   "execution_count": 20,
   "id": "ef7e796e",
   "metadata": {},
   "outputs": [
    {
     "name": "stdout",
     "output_type": "stream",
     "text": [
      "Ritik\n",
      "1234\n",
      "Rohit kumar\n",
      "1234fjkd\n"
     ]
    }
   ],
   "source": [
    "#### multiple inheritence \n",
    "class Grandfather:\n",
    "    grandfather_name = \"Ritik\"\n",
    "    grandfather_id = \"1234\"\n",
    "\n",
    "class Father(Grandfather):\n",
    "    father_name = \"Rohit kumar\"\n",
    "    father_id = \"1234fjkd\"\n",
    "\n",
    "class child(Father):\n",
    "    pass\n",
    "obj_child =child()\n",
    "\n",
    "print(obj_child.grandfather_name)\n",
    "print(obj_child.grandfather_id)\n",
    "print(obj_child.father_name)\n",
    "print(obj_child.father_id)"
   ]
  },
  {
   "cell_type": "code",
   "execution_count": 21,
   "id": "fa77e21c",
   "metadata": {},
   "outputs": [
    {
     "name": "stdout",
     "output_type": "stream",
     "text": [
      "hello\n"
     ]
    }
   ],
   "source": [
    "###polymorphism\n",
    "print(\"hello\")"
   ]
  },
  {
   "cell_type": "code",
   "execution_count": 22,
   "id": "f9aa116a",
   "metadata": {},
   "outputs": [
    {
     "name": "stdout",
     "output_type": "stream",
     "text": [
      "[1, 2, 3, 4, 5]\n"
     ]
    }
   ],
   "source": [
    "lst =[1,2,3,4,5]\n",
    "print(lst)"
   ]
  },
  {
   "cell_type": "code",
   "execution_count": 23,
   "id": "eb1b34c5",
   "metadata": {},
   "outputs": [
    {
     "data": {
      "text/plain": [
       "list"
      ]
     },
     "execution_count": 23,
     "metadata": {},
     "output_type": "execute_result"
    }
   ],
   "source": [
    "type(lst)"
   ]
  },
  {
   "cell_type": "code",
   "execution_count": 1,
   "id": "d7c3f928",
   "metadata": {},
   "outputs": [
    {
     "data": {
      "text/plain": [
       "str"
      ]
     },
     "execution_count": 1,
     "metadata": {},
     "output_type": "execute_result"
    }
   ],
   "source": [
    "type(\"hello\")"
   ]
  },
  {
   "cell_type": "code",
   "execution_count": 2,
   "id": "2acb7332",
   "metadata": {},
   "outputs": [],
   "source": [
    "class student:\n",
    "    pass"
   ]
  },
  {
   "cell_type": "code",
   "execution_count": 3,
   "id": "2d04b9b7",
   "metadata": {},
   "outputs": [],
   "source": [
    "class student:\n",
    "    pass"
   ]
  },
  {
   "cell_type": "code",
   "execution_count": 16,
   "id": "5dec4d1c",
   "metadata": {},
   "outputs": [],
   "source": [
    "### Encapsulation\n",
    "# private \n",
    "# public\n",
    "# proctected\n",
    "class student:\n",
    "    __name =\"ritik\"# private variable\n",
    "    age =20 # public variable\n",
    "    _id =\"1234\" # proctected variable\n",
    "st_obj = student()"
   ]
  },
  {
   "cell_type": "code",
   "execution_count": 6,
   "id": "ab16aee1",
   "metadata": {},
   "outputs": [
    {
     "data": {
      "text/plain": [
       "20"
      ]
     },
     "execution_count": 6,
     "metadata": {},
     "output_type": "execute_result"
    }
   ],
   "source": [
    "st_obj.age"
   ]
  },
  {
   "cell_type": "code",
   "execution_count": 17,
   "id": "28a0ef58",
   "metadata": {},
   "outputs": [
    {
     "data": {
      "text/plain": [
       "'1234'"
      ]
     },
     "execution_count": 17,
     "metadata": {},
     "output_type": "execute_result"
    }
   ],
   "source": [
    "st_obj._id"
   ]
  },
  {
   "cell_type": "code",
   "execution_count": null,
   "id": "5e48de1f",
   "metadata": {},
   "outputs": [],
   "source": [
    "st_obj._student_name"
   ]
  },
  {
   "cell_type": "code",
   "execution_count": null,
   "id": "b3f76b6f",
   "metadata": {},
   "outputs": [],
   "source": [
    "# bank  class\n",
    "\n",
    "# account no.  private\n",
    "# name \n",
    "# address \n",
    "# phone number\n",
    "# # method \n",
    "# total balance\n",
    "\n",
    "# class\n",
    "#  method\n",
    "#  inheritance\n",
    "\n",
    "\n",
    "# task 1 >>.>>>> super function\n",
    "# task 2 >>>>> bmi calculator "
   ]
  },
  {
   "cell_type": "code",
   "execution_count": null,
   "id": "8ca3afe8",
   "metadata": {},
   "outputs": [],
   "source": [
    "class bank:\n",
    "    __account_number =\"6781123409\" #private variable\n",
    "    name = \"harsh\"\n",
    "    address = \"jaipur\"\n",
    "    phone_number =\"6748391023\"\n",
    "    method = \"online\"\n",
    "    total_balnace =\"78960\"\n",
    "    \n",
    "st_obj = bank()\n"
   ]
  },
  {
   "cell_type": "code",
   "execution_count": 21,
   "id": "11dacd5b",
   "metadata": {},
   "outputs": [
    {
     "data": {
      "text/plain": [
       "'jaipur'"
      ]
     },
     "execution_count": 21,
     "metadata": {},
     "output_type": "execute_result"
    }
   ],
   "source": [
    "st_obj.address"
   ]
  },
  {
   "cell_type": "code",
   "execution_count": 22,
   "id": "3378c432",
   "metadata": {},
   "outputs": [
    {
     "data": {
      "text/plain": [
       "'online'"
      ]
     },
     "execution_count": 22,
     "metadata": {},
     "output_type": "execute_result"
    }
   ],
   "source": [
    "st_obj.method"
   ]
  },
  {
   "cell_type": "code",
   "execution_count": 25,
   "id": "8ea1e634",
   "metadata": {},
   "outputs": [
    {
     "data": {
      "text/plain": [
       "'78960'"
      ]
     },
     "execution_count": 25,
     "metadata": {},
     "output_type": "execute_result"
    }
   ],
   "source": [
    "st_obj.total_balnace"
   ]
  },
  {
   "cell_type": "code",
   "execution_count": 26,
   "id": "5d089814",
   "metadata": {},
   "outputs": [
    {
     "data": {
      "text/plain": [
       "'harsh'"
      ]
     },
     "execution_count": 26,
     "metadata": {},
     "output_type": "execute_result"
    }
   ],
   "source": [
    "st_obj.name"
   ]
  },
  {
   "cell_type": "code",
   "execution_count": null,
   "id": "7d90c519",
   "metadata": {},
   "outputs": [],
   "source": [
    "st_obj.__account_number"
   ]
  },
  {
   "cell_type": "code",
   "execution_count": 30,
   "id": "006aa2fd",
   "metadata": {},
   "outputs": [],
   "source": [
    "### constructor\n",
    "# init method\n",
    "\n",
    "# __init__\n",
    "\n",
    "\n",
    "\n",
    "class student:\n",
    "    def __init__(self):\n",
    "        pass"
   ]
  },
  {
   "cell_type": "code",
   "execution_count": 40,
   "id": "c7031b3f",
   "metadata": {},
   "outputs": [
    {
     "data": {
      "text/plain": [
       "<__main__.student at 0x203322b7710>"
      ]
     },
     "execution_count": 40,
     "metadata": {},
     "output_type": "execute_result"
    }
   ],
   "source": [
    "# calling\n",
    "class student:\n",
    "    def __init__(self):\n",
    "        pass\n",
    "student()\n"
   ]
  },
  {
   "cell_type": "code",
   "execution_count": null,
   "id": "4f37cf9d",
   "metadata": {},
   "outputs": [
    {
     "data": {
      "text/plain": [
       "'ritik'"
      ]
     },
     "execution_count": 32,
     "metadata": {},
     "output_type": "execute_result"
    }
   ],
   "source": [
    "class student:\n",
    "    def __init__(self,name,age):\n",
    "        self.name = name\n",
    "        self.age = age ### intance variable\n",
    "\n",
    "obj_st =student(name=\"ritik\", age=22)\n",
    "\n",
    "obj_st.name"
   ]
  },
  {
   "cell_type": "code",
   "execution_count": 37,
   "id": "2feafb1f",
   "metadata": {},
   "outputs": [
    {
     "data": {
      "text/plain": [
       "22"
      ]
     },
     "execution_count": 37,
     "metadata": {},
     "output_type": "execute_result"
    }
   ],
   "source": [
    "obj_st.age"
   ]
  },
  {
   "cell_type": "code",
   "execution_count": 43,
   "id": "3b6d7f4e",
   "metadata": {},
   "outputs": [],
   "source": [
    "class Student:\n",
    "    def __init__(self,name,age,address):\n",
    "        self.name = name\n",
    "        self.age = age #intance variable\n",
    "        self.address = address\n",
    "\n",
    "def display(self):\n",
    "    print(f\"my name is {ritik}and my age is {22} and my address is {kukas}\")\n",
    "\n",
    "\n",
    "obj_st= Student(name=\"ritik\",age=22,address=\"kukas\")"
   ]
  },
  {
   "cell_type": "code",
   "execution_count": 42,
   "id": "77bb08d9",
   "metadata": {},
   "outputs": [
    {
     "ename": "AttributeError",
     "evalue": "'Student' object has no attribute 'display'",
     "output_type": "error",
     "traceback": [
      "\u001b[31m---------------------------------------------------------------------------\u001b[39m",
      "\u001b[31mAttributeError\u001b[39m                            Traceback (most recent call last)",
      "\u001b[36mCell\u001b[39m\u001b[36m \u001b[39m\u001b[32mIn[42]\u001b[39m\u001b[32m, line 1\u001b[39m\n\u001b[32m----> \u001b[39m\u001b[32m1\u001b[39m \u001b[43mobj_st\u001b[49m\u001b[43m.\u001b[49m\u001b[43mdisplay\u001b[49m\n",
      "\u001b[31mAttributeError\u001b[39m: 'Student' object has no attribute 'display'"
     ]
    }
   ],
   "source": [
    "obj_st.display"
   ]
  },
  {
   "cell_type": "code",
   "execution_count": 47,
   "id": "a86140fc",
   "metadata": {},
   "outputs": [
    {
     "data": {
      "text/plain": [
       "1300"
      ]
     },
     "execution_count": 47,
     "metadata": {},
     "output_type": "execute_result"
    }
   ],
   "source": [
    "class Bank:\n",
    "    def __init__(self,name,age,amount,account_number,phone_number,address):\n",
    "        self.name = name\n",
    "        self.age =age\n",
    "        self.amount =amount\n",
    "\n",
    "        self.__account_number =account_number\n",
    "        self.phone_number =phone_number\n",
    "        self.address =address\n",
    "    def deposite(self,amount):\n",
    "        self.amount =self.amount+amount\n",
    "        return self.amount\n",
    "    \n",
    "    def withdraw(self,amount):\n",
    "        self.amount =self.amount-amount\n",
    "        return \"sucess withdraw thanks for using our service \"\n",
    "\n",
    "    def total_balance(self):\n",
    "        return self.amount\n",
    "    def info(self):\n",
    "        print(\"your name\",self.name)\n",
    "bn_obj =Bank(name=\"ritik\",amount=1000,age=22,account_number=\"67327\",phone_number=\"2357554\",address=\"neemrana\")\n",
    "bn_obj.deposite(300)\n",
    "\n",
    "\n"
   ]
  },
  {
   "cell_type": "code",
   "execution_count": 48,
   "id": "7e60c033",
   "metadata": {},
   "outputs": [
    {
     "data": {
      "text/plain": [
       "1300"
      ]
     },
     "execution_count": 48,
     "metadata": {},
     "output_type": "execute_result"
    }
   ],
   "source": [
    "bn_obj.amount"
   ]
  },
  {
   "cell_type": "code",
   "execution_count": null,
   "id": "e27a3956",
   "metadata": {},
   "outputs": [],
   "source": [
    "bn_obj.__account_number"
   ]
  },
  {
   "cell_type": "code",
   "execution_count": 1,
   "id": "ff8ce06b",
   "metadata": {},
   "outputs": [
    {
     "ename": "AttributeError",
     "evalue": "'super' object has no attribute 'init'",
     "output_type": "error",
     "traceback": [
      "\u001b[31m---------------------------------------------------------------------------\u001b[39m",
      "\u001b[31mAttributeError\u001b[39m                            Traceback (most recent call last)",
      "\u001b[36mCell\u001b[39m\u001b[36m \u001b[39m\u001b[32mIn[1]\u001b[39m\u001b[32m, line 24\u001b[39m\n\u001b[32m     21\u001b[39m         \u001b[38;5;28mprint\u001b[39m(\u001b[33mf\u001b[39m\u001b[33m\"\u001b[39m\u001b[33mEmployee ID: \u001b[39m\u001b[38;5;132;01m{\u001b[39;00m\u001b[38;5;28mself\u001b[39m.emp_id\u001b[38;5;132;01m}\u001b[39;00m\u001b[33m\"\u001b[39m)\n\u001b[32m     22\u001b[39m         \u001b[38;5;28mprint\u001b[39m(\u001b[33mf\u001b[39m\u001b[33m\"\u001b[39m\u001b[33mSalary: ₹\u001b[39m\u001b[38;5;132;01m{\u001b[39;00m\u001b[38;5;28mself\u001b[39m.salary\u001b[38;5;132;01m}\u001b[39;00m\u001b[33m\"\u001b[39m)\n\u001b[32m---> \u001b[39m\u001b[32m24\u001b[39m e1 = \u001b[43mEmployee\u001b[49m\u001b[43m(\u001b[49m\u001b[33;43m\"\u001b[39;49m\u001b[33;43mHarash\u001b[39;49m\u001b[33;43m\"\u001b[39;49m\u001b[43m,\u001b[49m\u001b[43m \u001b[49m\u001b[32;43m22\u001b[39;49m\u001b[43m,\u001b[49m\u001b[43m \u001b[49m\u001b[33;43m\"\u001b[39;49m\u001b[33;43m101\u001b[39;49m\u001b[33;43m\"\u001b[39;49m\u001b[43m,\u001b[49m\u001b[43m \u001b[49m\u001b[32;43m5500\u001b[39;49m\u001b[43m)\u001b[49m\n\u001b[32m     26\u001b[39m e1.show_info()\n",
      "\u001b[36mCell\u001b[39m\u001b[36m \u001b[39m\u001b[32mIn[1]\u001b[39m\u001b[32m, line 15\u001b[39m, in \u001b[36mEmployee.__init__\u001b[39m\u001b[34m(self, name, age, emp_id, salary)\u001b[39m\n\u001b[32m     13\u001b[39m \u001b[38;5;28;01mdef\u001b[39;00m\u001b[38;5;250m \u001b[39m\u001b[34m__init__\u001b[39m(\u001b[38;5;28mself\u001b[39m, name, age, emp_id,salary):\n\u001b[32m     14\u001b[39m     \u001b[38;5;28msuper\u001b[39m().\u001b[34m__init__\u001b[39m(name, age)\n\u001b[32m---> \u001b[39m\u001b[32m15\u001b[39m     \u001b[38;5;28;43msuper\u001b[39;49m\u001b[43m(\u001b[49m\u001b[43m)\u001b[49m\u001b[43m.\u001b[49m\u001b[43minit\u001b[49m(name, age)      \n\u001b[32m     16\u001b[39m     \u001b[38;5;28mself\u001b[39m.emp_id = emp_id\n\u001b[32m     17\u001b[39m     \u001b[38;5;28mself\u001b[39m.salary = salary\n",
      "\u001b[31mAttributeError\u001b[39m: 'super' object has no attribute 'init'"
     ]
    }
   ],
   "source": [
    "class Person:\n",
    "    def __init__(self,name,age):\n",
    "    \n",
    "        self.name = name\n",
    "        self.age = age\n",
    "\n",
    "    def show_info(self):\n",
    "        print(f\"Name: {self.name}\")\n",
    "        print(f\"Age: {self.age}\")\n",
    "\n",
    "\n",
    "class Employee(Person):\n",
    "    def __init__(self, name, age, emp_id,salary):\n",
    "        super().__init__(name, age)\n",
    "        super().init(name, age)      \n",
    "        self.emp_id = emp_id\n",
    "        self.salary = salary\n",
    "\n",
    "    def show_info(self):\n",
    "        super().show_info()              \n",
    "        print(f\"Employee ID: {self.emp_id}\")\n",
    "        print(f\"Salary: ₹{self.salary}\")\n",
    "\n",
    "e1 = Employee(\"Harash\", 22, \"101\", 5500)\n",
    "\n",
    "e1.show_info()"
   ]
  },
  {
   "cell_type": "code",
   "execution_count": 4,
   "id": "f59fbcd3",
   "metadata": {},
   "outputs": [],
   "source": [
    "def calculate_bmi(weight, height):\n",
    "    \"\"\"\n",
    "    Calculate BMI based on weight (in kg) and height (in meters)\n",
    "    \"\"\"\n",
    "    bmi = weight / (height ** 2)\n",
    "    return bmi\n",
    "\n",
    "def get_bmi_category(bmi):\n",
    "    \"\"\"\n",
    "    Determine BMI category based on BMI value\n",
    "    \"\"\"\n",
    "    if bmi < 18.5:\n",
    "        return \"Underweight\"\n",
    "    elif bmi < 25:\n",
    "        return \"Normal\"\n",
    "    elif bmi < 30:\n",
    "        return \"Overweight\"\n",
    "    else:\n",
    "        return \"Obese\"\n",
    "\n",
    "def main():\n",
    "    weight = float(input(\"Enter your weight in kg: \"))\n",
    "    height = float(input(\"Enter your height in meters: \"))\n",
    "\n",
    "    bmi = calculate_bmi(weight, height)\n",
    "    category = get_bmi_category(bmi)\n",
    "\n",
    "    print(f\"Your BMI is: {bmi:.2f}\")\n",
    "    print(f\"Your BMI category is: {category}\")\n",
    "\n",
    "if __name__ == \"_main_\":\n",
    "     main()  "
   ]
  },
  {
   "cell_type": "code",
   "execution_count": null,
   "id": "7deb4f88",
   "metadata": {},
   "outputs": [
    {
     "name": "stdout",
     "output_type": "stream",
     "text": [
      "Name: priyanshu\n",
      "Age: 22\n",
      "Employee ID: 267\n",
      "Salary: ₹3500\n"
     ]
    }
   ],
   "source": [
    "class Person:\n",
    "    def __init__(self,name,age):\n",
    "    \n",
    "        self.name = name\n",
    "        self.age = age\n",
    "\n",
    "    def show_info(self):\n",
    "        print(f\"Name: {self.name}\")\n",
    "        print(f\"Age: {self.age}\")\n",
    "\n",
    "\n",
    "class Employee(Person):\n",
    "    def __init__(self, name, age, emp_id,salary):\n",
    "        super().__init__(name, age)    \n",
    "        self.emp_id = emp_id\n",
    "        self.salary = salary\n",
    "\n",
    "    def show_info(self):\n",
    "        super().show_info()              \n",
    "        print(f\"Employee ID: {self.emp_id}\")\n",
    "        print(f\"Salary: ₹{self.salary}\")\n",
    "\n",
    "e1 = Employee(\"priyanshu\", 22, \"267\", 00)\n",
    "e1.show_info()"
   ]
  },
  {
   "cell_type": "code",
   "execution_count": 1,
   "id": "b7fabee0",
   "metadata": {},
   "outputs": [
    {
     "name": "stdout",
     "output_type": "stream",
     "text": [
      "Your BMI is: 19.93\n",
      "You have Normal weight.\n"
     ]
    }
   ],
   "source": [
    "class BMICalculator:\n",
    "    def __init__(self, weight, height):\n",
    "        self.weight = weight     \n",
    "        self.height = height      \n",
    "\n",
    "    def calculate_bmi(self):\n",
    "        bmi = self.weight / (self.height ** 2)\n",
    "        return bmi\n",
    "\n",
    "    def interpret_bmi(self):\n",
    "        bmi = self.calculate_bmi()\n",
    "        print(f\"Your BMI is: {bmi:.2f}\")\n",
    "\n",
    "        if bmi < 18.5:\n",
    "            print(\"You are Underweight.\")\n",
    "        elif bmi < 25:\n",
    "            print(\"You have Normal weight.\")\n",
    "        elif bmi < 30:\n",
    "            print(\"You are Overweight.\")\n",
    "        else:\n",
    "            print(\"You are Obese.\")\n",
    "\n",
    "\n",
    "\n",
    "weight = float(input(\"Enter your weight in kg: \"))\n",
    "height = float(input(\"Enter your height in meters: \"))\n",
    "\n",
    "\n",
    "b1 = BMICalculator(weight, height)\n",
    "\n",
    "\n",
    "b1.interpret_bmi()"
   ]
  },
  {
   "cell_type": "code",
   "execution_count": null,
   "id": "6bf1f068",
   "metadata": {},
   "outputs": [],
   "source": []
  }
 ],
 "metadata": {
  "kernelspec": {
   "display_name": "Python 3",
   "language": "python",
   "name": "python3"
  },
  "language_info": {
   "codemirror_mode": {
    "name": "ipython",
    "version": 3
   },
   "file_extension": ".py",
   "mimetype": "text/x-python",
   "name": "python",
   "nbconvert_exporter": "python",
   "pygments_lexer": "ipython3",
   "version": "3.11.5"
  }
 },
 "nbformat": 4,
 "nbformat_minor": 5
}
