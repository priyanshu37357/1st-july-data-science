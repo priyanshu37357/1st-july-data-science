{
 "cells": [
  {
   "cell_type": "code",
   "execution_count": 3,
   "id": "a1df68b1",
   "metadata": {},
   "outputs": [
    {
     "name": "stdout",
     "output_type": "stream",
     "text": [
      " x ki value ha vo 20 hai\n"
     ]
    }
   ],
   "source": [
    "x =20\n",
    "if x<10: ## condition\n",
    " print(\" x ha vo chota ha 10 sa \")\n",
    "elif x ==20:\n",
    " print(\" x ki value ha vo 20 hai\")\n",
    "\n",
    "else:\n",
    "  print(\" x ha vo bda ha 10 sa\")\n",
    "    "
   ]
  },
  {
   "cell_type": "markdown",
   "id": "fcb70682",
   "metadata": {},
   "source": [
    "## conditional statement \n",
    "* if ,else , elfe\n"
   ]
  },
  {
   "cell_type": "code",
   "execution_count": 2,
   "id": "31a64f95",
   "metadata": {},
   "outputs": [],
   "source": [
    "### conditional statement"
   ]
  },
  {
   "cell_type": "code",
   "execution_count": 1,
   "id": "ac6cf45b",
   "metadata": {},
   "outputs": [
    {
     "data": {
      "text/plain": [
       "10"
      ]
     },
     "execution_count": 1,
     "metadata": {},
     "output_type": "execute_result"
    }
   ],
   "source": [
    "a = 10\n",
    "\n",
    "a"
   ]
  },
  {
   "cell_type": "code",
   "execution_count": null,
   "id": "458c7fa0",
   "metadata": {},
   "outputs": [],
   "source": [
    "#4g >> uf@100824\n",
    "#5g >> uf@100823\n",
    "\n",
    "# task 2 \n",
    "# find the largest number \n",
    "# check even or odd \n",
    "# leap year checker\n",
    "# grading system \n",
    "# traffic light system\n",
    " #90 and above: Grade A\n",
    "# 75 to 89: Grade B\n",
    "\n",
    "# 60 to 74: Grade C\n",
    "\n",
    "# # Below 60: Grade D\n",
    "# Find Largest of Three Numbers\n",
    "# Traffic Light System\n",
    "# Write a program that takes the color of a traffic light as input (red, yellow, green) and prints the corresponding action:\n",
    "\n",
    "# Red → Stop\n",
    "\n",
    "# Yellow → Wait\n",
    "\n",
    "# Green → Go\n",
    "\n"
   ]
  },
  {
   "cell_type": "code",
   "execution_count": null,
   "id": "2fbd6da4",
   "metadata": {},
   "outputs": [
    {
     "name": "stdout",
     "output_type": "stream",
     "text": [
      "c is the largest number\n"
     ]
    }
   ],
   "source": [
    "### find the largest number \n",
    "a = 1\n",
    "b = 2\n",
    "c = 3\n",
    "if (a>=b and a>=c):\n",
    "    print(\"a is the largest number\")\n",
    "\n",
    "elif(b>=a and b>=c):\n",
    "    print(\"b is the largest number\")\n",
    "\n",
    "else:\n",
    "    print(\"c is the largest number\")"
   ]
  },
  {
   "cell_type": "code",
   "execution_count": null,
   "id": "3a550053",
   "metadata": {},
   "outputs": [
    {
     "name": "stdout",
     "output_type": "stream",
     "text": [
      "Odd\n"
     ]
    }
   ],
   "source": [
    "###  check even or odd \n",
    "x = 7\n",
    "if x % 2 == 0:\n",
    "    print(\"Even\")\n",
    "else:\n",
    "    print(\"Odd\")\n",
    "\n"
   ]
  },
  {
   "cell_type": "code",
   "execution_count": 11,
   "id": "df4671e4",
   "metadata": {},
   "outputs": [
    {
     "name": "stdout",
     "output_type": "stream",
     "text": [
      "Leap year\n"
     ]
    }
   ],
   "source": [
    "### leap year check \n",
    "y = 2000\n",
    "\n",
    "# Check if the year is divisible by 4\n",
    "if y % 4 == 0:\n",
    "    \n",
    "    # Check if the year is divisible by 100\n",
    "    if y % 100 == 0:\n",
    "        \n",
    "        # Check if the year is divisible by 400\n",
    "        if y % 400 == 0:\n",
    "            \n",
    "            # Divisible by 400, it is a leap year\n",
    "            print(\"Leap year\") \n",
    "        else:\n",
    "            print(\"Not a leap year\")  \n",
    "    else:\n",
    "        print(\"Leap year\") \n",
    "else:\n",
    "    print(\"Not a leap year\")"
   ]
  },
  {
   "cell_type": "code",
   "execution_count": 12,
   "id": "6debe668",
   "metadata": {},
   "outputs": [
    {
     "name": "stdout",
     "output_type": "stream",
     "text": [
      "Enter Marks Obtained in 3 Subjects: \n",
      "Your Grade is D\n"
     ]
    }
   ],
   "source": [
    "### grading system\n",
    "print(\"Enter Marks Obtained in 3 Subjects: \")\n",
    "total1 = 44\n",
    "total2 = 67\n",
    "total3 = 76\n",
    "tot = total1 + total2 + total3\n",
    "avg = tot / 3\n",
    "if avg >= 91 and avg <= 100:\n",
    "    print(\"Your Grade is A\")\n",
    "elif avg >= 81 and avg < 91:\n",
    "    print(\"Your Grade is B\")\n",
    "elif avg >= 71 and avg < 81:\n",
    "    print(\"Your Grade is c\")\n",
    "elif avg >= 61 and avg < 71:\n",
    "    print(\"Your Grade is D\")\n",
    "elif avg >= 51 and avg < 61:\n",
    "    print(\"Your Grade is E\")\n",
    "else:\n",
    "    print(\"Invalid Input!\")\n",
    "\n",
    "\n"
   ]
  },
  {
   "cell_type": "code",
   "execution_count": null,
   "id": "cbfddb43",
   "metadata": {},
   "outputs": [
    {
     "name": "stdout",
     "output_type": "stream",
     "text": [
      "  invalid color ,Please enter 'red', 'yellow', or 'green'.\n"
     ]
    }
   ],
   "source": [
    "### trafic light signal\n",
    "def traffic_light_simulator():\n",
    "    color = input(\"Enter the current traffic light color (red, yellow, or green): \").lower()\n",
    "\n",
    "    if color == \"red\":\n",
    "        print(\"STOP! Do not move .\")\n",
    "    elif color == \"yellow\":\n",
    "        print(\"Prepare to stop or clear the intersection.\")\n",
    "    elif color == \"green\":\n",
    "        print(\"GO! You may go \")\n",
    "    else:\n",
    "        print(\"  invalid color ,Please enter 'red', 'yellow', or 'green'.\")\n",
    "\n",
    "# Call the function to run the simulation\n",
    "traffic_light_simulator()"
   ]
  },
  {
   "cell_type": "code",
   "execution_count": null,
   "id": "ea36cd8f",
   "metadata": {},
   "outputs": [],
   "source": [
    "# global varible \n",
    "# local variable \n",
    "# polymorphism\n",
    "# inheritence \n",
    "# encapsulation\n",
    "# abstraction"
   ]
  },
  {
   "cell_type": "code",
   "execution_count": null,
   "id": "d5796587",
   "metadata": {},
   "outputs": [],
   "source": [
    "class class_name:\n",
    "    pass  \n",
    "# class_name >>> class name \n",
    "# pass >>> placeholder\n",
    "# class is a keyword "
   ]
  },
  {
   "cell_type": "code",
   "execution_count": null,
   "id": "553e7585",
   "metadata": {},
   "outputs": [
    {
     "name": "stdout",
     "output_type": "stream",
     "text": [
      "my name is ritik and my age is 20\n"
     ]
    }
   ],
   "source": [
    "class Student:\n",
    "  \n",
    "  name= \"ritik\" ### class variable \n",
    "  age = 20  ### class variable\n",
    "  print(f\"my name is {name} and my age is {age}\")\n",
    "obj_st=Student()  ### obj_st is object \n"
   ]
  },
  {
   "cell_type": "code",
   "execution_count": 7,
   "id": "f6e7506b",
   "metadata": {},
   "outputs": [
    {
     "data": {
      "text/plain": [
       "'ritik'"
      ]
     },
     "execution_count": 7,
     "metadata": {},
     "output_type": "execute_result"
    }
   ],
   "source": [
    "obj_st.name "
   ]
  },
  {
   "cell_type": "code",
   "execution_count": 8,
   "id": "26936f63",
   "metadata": {},
   "outputs": [
    {
     "data": {
      "text/plain": [
       "20"
      ]
     },
     "execution_count": 8,
     "metadata": {},
     "output_type": "execute_result"
    }
   ],
   "source": [
    "obj_st.age"
   ]
  },
  {
   "cell_type": "code",
   "execution_count": 11,
   "id": "eb1e14d9",
   "metadata": {},
   "outputs": [
    {
     "ename": "NameError",
     "evalue": "name 'Student' is not defined",
     "output_type": "error",
     "traceback": [
      "\u001b[31m---------------------------------------------------------------------------\u001b[39m",
      "\u001b[31mNameError\u001b[39m                                 Traceback (most recent call last)",
      "\u001b[36mCell\u001b[39m\u001b[36m \u001b[39m\u001b[32mIn[11]\u001b[39m\u001b[32m, line 8\u001b[39m\n\u001b[32m      6\u001b[39m         \u001b[38;5;28mprint\u001b[39m(\u001b[33m\"\u001b[39m\u001b[33mthis is my first mrthod\u001b[39m\u001b[33m\"\u001b[39m)\n\u001b[32m      7\u001b[39m         \u001b[38;5;28mprint\u001b[39m(\u001b[33m\"\u001b[39m\u001b[33m hoe are you all \u001b[39m\u001b[33m\"\u001b[39m)\n\u001b[32m----> \u001b[39m\u001b[32m8\u001b[39m dt_obj =\u001b[43mStudent\u001b[49m()\n",
      "\u001b[31mNameError\u001b[39m: name 'Student' is not defined"
     ]
    }
   ],
   "source": [
    "class student:\n",
    "    name = \"ritik\"\n",
    "    age = 28\n",
    "\n",
    "    def info(self):\n",
    "        print(\"this is my first mrthod\")\n",
    "        print(\" hoe are you all \")\n",
    "dt_obj =Student()"
   ]
  },
  {
   "cell_type": "code",
   "execution_count": null,
   "id": "b74b8cf9",
   "metadata": {},
   "outputs": [
    {
     "ename": "SyntaxError",
     "evalue": "invalid syntax (2483515472.py, line 1)",
     "output_type": "error",
     "traceback": [
      "  \u001b[36mCell\u001b[39m\u001b[36m \u001b[39m\u001b[32mIn[10]\u001b[39m\u001b[32m, line 1\u001b[39m\n\u001b[31m    \u001b[39m\u001b[31mdt_obj.info()|\u001b[39m\n                  ^\n\u001b[31mSyntaxError\u001b[39m\u001b[31m:\u001b[39m invalid syntax\n"
     ]
    }
   ],
   "source": [
    "dt_obj.info()|"
   ]
  },
  {
   "cell_type": "code",
   "execution_count": null,
   "id": "6d5058a8",
   "metadata": {},
   "outputs": [],
   "source": [
    "class student:\n",
    "    name = \"ritik\" ### class vaariable\n",
    "    age = 28     ### class vaariable\n",
    "\n",
    "    def info(self):\n",
    "        print(f\" my name is {self.name} and my age is {self.age} \")\n",
    "        ###print(age)  ### info is method and self is a parameter ya object keyword\n",
    "\n",
    "dt_obj =Student()"
   ]
  },
  {
   "cell_type": "code",
   "execution_count": null,
   "id": "28c0b64a",
   "metadata": {},
   "outputs": [],
   "source": [
    "dt_obj.info()"
   ]
  },
  {
   "cell_type": "markdown",
   "id": "3e9a4bde",
   "metadata": {},
   "source": [
    "#### inheritence "
   ]
  },
  {
   "cell_type": "markdown",
   "id": "55efd115",
   "metadata": {},
   "source": [
    "## types of inhearitence \n",
    "* single inheritence\n",
    "* multiple inheritence\n",
    "* multilevel inheritence\n",
    "* hierarchical inheritence\n",
    "* hybrid inheritence"
   ]
  },
  {
   "cell_type": "code",
   "execution_count": null,
   "id": "db31cf22",
   "metadata": {},
   "outputs": [],
   "source": [
    "# class collage:\n",
    "#     pass \n",
    "\n",
    "# class student:\n",
    "#     pass"
   ]
  },
  {
   "cell_type": "code",
   "execution_count": 14,
   "id": "52f82414",
   "metadata": {},
   "outputs": [],
   "source": [
    "### single inheritence \n",
    "class collage:\n",
    "    pass\n",
    "class student(collage):\n",
    "    pass"
   ]
  },
  {
   "cell_type": "code",
   "execution_count": 16,
   "id": "420edb75",
   "metadata": {},
   "outputs": [
    {
     "name": "stdout",
     "output_type": "stream",
     "text": [
      " Arya collage \n",
      "khuukas\n",
      "ritik\n",
      "1233\n"
     ]
    }
   ],
   "source": [
    "class collage:\n",
    "    collage_name =\" Arya collage \"\n",
    "    collage_address = \"khuukas\"\n",
    "    \n",
    "    def info(self):\n",
    "        print(self.collage_name)\n",
    "        print(self.collage_address)\n",
    "class student(collage):\n",
    "    student_name = \"ritik\"\n",
    "    student_id = \"1233\"\n",
    "st_obj =student()\n",
    "print(st_obj.collage_name)\n",
    "print(st_obj.collage_address)\n",
    "print(st_obj.student_name)\n",
    "print(st_obj.student_id)"
   ]
  },
  {
   "cell_type": "code",
   "execution_count": 17,
   "id": "9346b9b0",
   "metadata": {},
   "outputs": [
    {
     "name": "stdout",
     "output_type": "stream",
     "text": [
      " Arya collage \n",
      "khuukas\n"
     ]
    }
   ],
   "source": [
    "st_obj.info()"
   ]
  },
  {
   "cell_type": "code",
   "execution_count": 18,
   "id": "16a10837",
   "metadata": {},
   "outputs": [
    {
     "name": "stdout",
     "output_type": "stream",
     "text": [
      "ritik\n",
      "1234\n",
      "Rohit kumar\n"
     ]
    }
   ],
   "source": [
    "### multiple inheritence \n",
    "class father:\n",
    "    father_name=\"ritik\"\n",
    "    father_id =\"1234\"\n",
    "class uncle:\n",
    "    uncle_name =\"Rohit kumar\"\n",
    "class child(father,uncle):\n",
    "    pass \n",
    "\n",
    "obj_child =child()\n",
    "print(obj_child.father_name)\n",
    "print(obj_child.father_id)\n",
    "print(obj_child.uncle_name)"
   ]
  },
  {
   "cell_type": "code",
   "execution_count": 19,
   "id": "355a63f0",
   "metadata": {},
   "outputs": [
    {
     "name": "stdout",
     "output_type": "stream",
     "text": [
      "ritik\n",
      "1234\n",
      "Rohit kumar\n",
      "1234fgfg\n"
     ]
    }
   ],
   "source": [
    "### mutlilevel inheritence \n",
    "class Grandfather:\n",
    "   Grandfather_name=\"ritik\"\n",
    "   Grandfather_id =\"1234\"\n",
    "class father(Grandfather):\n",
    "   father_Name =\"Rohit kumar\"\n",
    "   father_id = \"1234fgfg\"\n",
    "\n",
    "class child(father):\n",
    "      pass\n",
    "\n",
    "\n",
    "obj_child=child()\n",
    "print(obj_child.Grandfather_name)\n",
    "print(obj_child.Grandfather_id)\n",
    "print(obj_child.father_Name)\n",
    "print(obj_child.father_id)\n",
    "   \n",
    "\n",
    "\n"
   ]
  },
  {
   "cell_type": "code",
   "execution_count": 20,
   "id": "635a33b5",
   "metadata": {},
   "outputs": [
    {
     "name": "stdout",
     "output_type": "stream",
     "text": [
      "hello\n"
     ]
    }
   ],
   "source": [
    "### polymorphism\n",
    "print(\"hello\")"
   ]
  },
  {
   "cell_type": "code",
   "execution_count": 21,
   "id": "5292508d",
   "metadata": {},
   "outputs": [
    {
     "name": "stdout",
     "output_type": "stream",
     "text": [
      "[1, 2, 3, 4, 5, 6]\n"
     ]
    }
   ],
   "source": [
    "lst = [1,2,3,4,5,6]\n",
    "print(lst)"
   ]
  },
  {
   "cell_type": "code",
   "execution_count": 22,
   "id": "f964dc30",
   "metadata": {},
   "outputs": [
    {
     "data": {
      "text/plain": [
       "list"
      ]
     },
     "execution_count": 22,
     "metadata": {},
     "output_type": "execute_result"
    }
   ],
   "source": [
    "type(lst)"
   ]
  },
  {
   "cell_type": "code",
   "execution_count": null,
   "id": "17994dcb",
   "metadata": {},
   "outputs": [],
   "source": []
  }
 ],
 "metadata": {
  "kernelspec": {
   "display_name": "Python 3",
   "language": "python",
   "name": "python3"
  },
  "language_info": {
   "codemirror_mode": {
    "name": "ipython",
    "version": 3
   },
   "file_extension": ".py",
   "mimetype": "text/x-python",
   "name": "python",
   "nbconvert_exporter": "python",
   "pygments_lexer": "ipython3",
   "version": "3.11.5"
  }
 },
 "nbformat": 4,
 "nbformat_minor": 5
}
