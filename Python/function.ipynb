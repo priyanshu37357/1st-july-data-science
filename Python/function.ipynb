{
 "cells": [
  {
   "cell_type": "markdown",
   "id": "031c4dd4",
   "metadata": {},
   "source": [
    "<!-- function \n",
    "user difine function \n",
    "pre define function >>>>>>> print , len ,"
   ]
  },
  {
   "cell_type": "code",
   "execution_count": null,
   "id": "efdd8378",
   "metadata": {},
   "outputs": [],
   "source": [
    "def function_name():\n",
    "    pass \n",
    "\n",
    "# function_name>>>>>>..function Name define \n",
    "# def is keyboard  \n",
    "# pass >>> placeholder \n",
    "\n",
    "function_name() ### >>>> calling function "
   ]
  },
  {
   "cell_type": "code",
   "execution_count": null,
   "id": "2b250d13",
   "metadata": {},
   "outputs": [],
   "source": [
    "# def function_name():\n",
    "\n",
    "     ### >>>> calling function"
   ]
  },
  {
   "cell_type": "code",
   "execution_count": 3,
   "id": "f552fa2e",
   "metadata": {},
   "outputs": [],
   "source": [
    "def display():\n",
    "    print(\"hello\")"
   ]
  },
  {
   "cell_type": "code",
   "execution_count": 2,
   "id": "a27856f7",
   "metadata": {},
   "outputs": [
    {
     "name": "stdout",
     "output_type": "stream",
     "text": [
      "hello\n"
     ]
    }
   ],
   "source": [
    "display()"
   ]
  },
  {
   "cell_type": "code",
   "execution_count": 4,
   "id": "89f19e5c",
   "metadata": {},
   "outputs": [],
   "source": [
    "def add ():\n",
    "    a =10\n",
    "    b=20\n",
    "    print(a+b)\n",
    "    add()\n"
   ]
  },
  {
   "cell_type": "code",
   "execution_count": null,
   "id": "e580a225",
   "metadata": {},
   "outputs": [],
   "source": [
    "add()"
   ]
  },
  {
   "cell_type": "code",
   "execution_count": null,
   "id": "518bea79",
   "metadata": {},
   "outputs": [],
   "source": [
    "def add(a,b):\n",
    "    print(a+b)\n",
    "    add(10,20)\n",
    "    "
   ]
  },
  {
   "cell_type": "code",
   "execution_count": null,
   "id": "5f812b3b",
   "metadata": {},
   "outputs": [],
   "source": [
    "def display():\n",
    "    pass \n",
    "display()"
   ]
  },
  {
   "cell_type": "code",
   "execution_count": 15,
   "id": "a08a80e6",
   "metadata": {},
   "outputs": [],
   "source": [
    "def display(name , age , address = \"jaipur\"):\n",
    "    print(\"my name is (priyanshu) and my (22) and i am from (address)\")\n"
   ]
  },
  {
   "cell_type": "code",
   "execution_count": 16,
   "id": "d60e0e1f",
   "metadata": {},
   "outputs": [
    {
     "name": "stdout",
     "output_type": "stream",
     "text": [
      "my name is (priyanshu) and my (22) and i am from (address)\n"
     ]
    }
   ],
   "source": [
    "display(\"ritik\",22)"
   ]
  },
  {
   "cell_type": "code",
   "execution_count": 17,
   "id": "c681b6b2",
   "metadata": {},
   "outputs": [
    {
     "name": "stdout",
     "output_type": "stream",
     "text": [
      "my name is (priyanshu) and my (22) and i am from (address)\n"
     ]
    }
   ],
   "source": [
    "display(\"ritik\",22,\" kumbh marg\")"
   ]
  },
  {
   "cell_type": "markdown",
   "id": "bf199709",
   "metadata": {},
   "source": [
    "### lamda function \n",
    "###### lambda >>> keyword \n",
    "###### lamda is a anonymous function \n",
    "###### it is used for single line function \n",
    "###### it is used for sort function \n",
    "###### it is used for one line function "
   ]
  },
  {
   "cell_type": "code",
   "execution_count": 20,
   "id": "fa301193",
   "metadata": {},
   "outputs": [
    {
     "data": {
      "text/plain": [
       "30"
      ]
     },
     "execution_count": 20,
     "metadata": {},
     "output_type": "execute_result"
    }
   ],
   "source": [
    "add = lambda a,b  : a+b\n",
    "add(10,20)"
   ]
  },
  {
   "cell_type": "code",
   "execution_count": 19,
   "id": "21fb7fa4",
   "metadata": {},
   "outputs": [
    {
     "data": {
      "text/plain": [
       "100"
      ]
     },
     "execution_count": 19,
     "metadata": {},
     "output_type": "execute_result"
    }
   ],
   "source": [
    "square =lambda a : a**2\n",
    "square(10)"
   ]
  },
  {
   "cell_type": "code",
   "execution_count": null,
   "id": "c528fb25",
   "metadata": {},
   "outputs": [],
   "source": []
  }
 ],
 "metadata": {
  "kernelspec": {
   "display_name": "Python 3",
   "language": "python",
   "name": "python3"
  },
  "language_info": {
   "codemirror_mode": {
    "name": "ipython",
    "version": 3
   },
   "file_extension": ".py",
   "mimetype": "text/x-python",
   "name": "python",
   "nbconvert_exporter": "python",
   "pygments_lexer": "ipython3",
   "version": "3.11.5"
  }
 },
 "nbformat": 4,
 "nbformat_minor": 5
}
